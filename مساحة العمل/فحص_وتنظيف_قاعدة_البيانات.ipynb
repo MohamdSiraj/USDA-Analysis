{
 "cells": [
  {
   "metadata": {},
   "cell_type": "markdown",
   "source": "# هذا الملف يخص بالتقنيين وفيه نطلع على قاعدة البيانات ونفهمها ونعرف هيكلها قبل أن نقوم بعملية التحليل والتنظيف والتحليل الاستكشافي لها",
   "id": "d0b27a0169911e4b"
  },
  {
   "metadata": {},
   "cell_type": "markdown",
   "source": [
    "# الخطوة الأولى:\n",
    " ### معرفة هل تستجيب قاعدة البيانات "
   ],
   "id": "362b54a95119976a"
  },
  {
   "metadata": {
    "SqlCellData": {
     "data_source_name": "USDA",
     "variableName$1": "df_sql"
    },
    "ExecuteTime": {
     "end_time": "2024-11-03T05:56:25.225727Z",
     "start_time": "2024-11-03T05:55:45.310082Z"
    }
   },
   "cell_type": "code",
   "source": [
    "%%sql\n",
    "SELECT * from eggProdu;"
   ],
   "id": "ad7a1640c66b0f3e",
   "outputs": [
    {
     "data": {
      "text/plain": [
       "      Year Period Geo_Level  State_ANSI  Commodity_ID          Value\n",
       "0     2023    APR     STATE         1.0             7    224,100,000\n",
       "1     2023    APR     STATE         5.0             7    319,000,000\n",
       "2     2023    APR     STATE         6.0             7    271,300,000\n",
       "3     2023    APR     STATE         8.0             7     52,200,000\n",
       "4     2023    APR     STATE        13.0             7    437,800,000\n",
       "...    ...    ...       ...         ...           ...            ...\n",
       "6322  1948   YEAR     STATE        27.0             7  3,646,000,000\n",
       "6323  1947   YEAR     STATE        27.0             7  3,693,000,000\n",
       "6324  1946   YEAR     STATE        27.0             7  3,899,000,000\n",
       "6325  1945   YEAR     STATE        27.0             7  3,907,000,000\n",
       "6326  1944   YEAR     STATE        27.0             7  3,718,000,000\n",
       "\n",
       "[6327 rows x 6 columns]"
      ],
      "text/html": [
       "<div>\n",
       "<style scoped>\n",
       "    .dataframe tbody tr th:only-of-type {\n",
       "        vertical-align: middle;\n",
       "    }\n",
       "\n",
       "    .dataframe tbody tr th {\n",
       "        vertical-align: top;\n",
       "    }\n",
       "\n",
       "    .dataframe thead th {\n",
       "        text-align: right;\n",
       "    }\n",
       "</style>\n",
       "<table border=\"1\" class=\"dataframe\">\n",
       "  <thead>\n",
       "    <tr style=\"text-align: right;\">\n",
       "      <th></th>\n",
       "      <th>Year</th>\n",
       "      <th>Period</th>\n",
       "      <th>Geo_Level</th>\n",
       "      <th>State_ANSI</th>\n",
       "      <th>Commodity_ID</th>\n",
       "      <th>Value</th>\n",
       "    </tr>\n",
       "  </thead>\n",
       "  <tbody>\n",
       "    <tr>\n",
       "      <th>0</th>\n",
       "      <td>2023</td>\n",
       "      <td>APR</td>\n",
       "      <td>STATE</td>\n",
       "      <td>1.0</td>\n",
       "      <td>7</td>\n",
       "      <td>224,100,000</td>\n",
       "    </tr>\n",
       "    <tr>\n",
       "      <th>1</th>\n",
       "      <td>2023</td>\n",
       "      <td>APR</td>\n",
       "      <td>STATE</td>\n",
       "      <td>5.0</td>\n",
       "      <td>7</td>\n",
       "      <td>319,000,000</td>\n",
       "    </tr>\n",
       "    <tr>\n",
       "      <th>2</th>\n",
       "      <td>2023</td>\n",
       "      <td>APR</td>\n",
       "      <td>STATE</td>\n",
       "      <td>6.0</td>\n",
       "      <td>7</td>\n",
       "      <td>271,300,000</td>\n",
       "    </tr>\n",
       "    <tr>\n",
       "      <th>3</th>\n",
       "      <td>2023</td>\n",
       "      <td>APR</td>\n",
       "      <td>STATE</td>\n",
       "      <td>8.0</td>\n",
       "      <td>7</td>\n",
       "      <td>52,200,000</td>\n",
       "    </tr>\n",
       "    <tr>\n",
       "      <th>4</th>\n",
       "      <td>2023</td>\n",
       "      <td>APR</td>\n",
       "      <td>STATE</td>\n",
       "      <td>13.0</td>\n",
       "      <td>7</td>\n",
       "      <td>437,800,000</td>\n",
       "    </tr>\n",
       "    <tr>\n",
       "      <th>...</th>\n",
       "      <td>...</td>\n",
       "      <td>...</td>\n",
       "      <td>...</td>\n",
       "      <td>...</td>\n",
       "      <td>...</td>\n",
       "      <td>...</td>\n",
       "    </tr>\n",
       "    <tr>\n",
       "      <th>6322</th>\n",
       "      <td>1948</td>\n",
       "      <td>YEAR</td>\n",
       "      <td>STATE</td>\n",
       "      <td>27.0</td>\n",
       "      <td>7</td>\n",
       "      <td>3,646,000,000</td>\n",
       "    </tr>\n",
       "    <tr>\n",
       "      <th>6323</th>\n",
       "      <td>1947</td>\n",
       "      <td>YEAR</td>\n",
       "      <td>STATE</td>\n",
       "      <td>27.0</td>\n",
       "      <td>7</td>\n",
       "      <td>3,693,000,000</td>\n",
       "    </tr>\n",
       "    <tr>\n",
       "      <th>6324</th>\n",
       "      <td>1946</td>\n",
       "      <td>YEAR</td>\n",
       "      <td>STATE</td>\n",
       "      <td>27.0</td>\n",
       "      <td>7</td>\n",
       "      <td>3,899,000,000</td>\n",
       "    </tr>\n",
       "    <tr>\n",
       "      <th>6325</th>\n",
       "      <td>1945</td>\n",
       "      <td>YEAR</td>\n",
       "      <td>STATE</td>\n",
       "      <td>27.0</td>\n",
       "      <td>7</td>\n",
       "      <td>3,907,000,000</td>\n",
       "    </tr>\n",
       "    <tr>\n",
       "      <th>6326</th>\n",
       "      <td>1944</td>\n",
       "      <td>YEAR</td>\n",
       "      <td>STATE</td>\n",
       "      <td>27.0</td>\n",
       "      <td>7</td>\n",
       "      <td>3,718,000,000</td>\n",
       "    </tr>\n",
       "  </tbody>\n",
       "</table>\n",
       "<p>6327 rows × 6 columns</p>\n",
       "</div>"
      ]
     },
     "execution_count": 1,
     "metadata": {},
     "output_type": "execute_result"
    }
   ],
   "execution_count": 1
  },
  {
   "metadata": {},
   "cell_type": "markdown",
   "source": [
    "# الخطوة الثانية:\n",
    " ### معرفة هيكل قاعدة البيانات"
   ],
   "id": "6e6fdf1063d13218"
  },
  {
   "metadata": {
    "SqlCellData": {
     "data_source_name": "USDA",
     "variableName$1": "df_sql1"
    },
    "ExecuteTime": {
     "end_time": "2024-11-03T05:58:52.568484Z",
     "start_time": "2024-11-03T05:58:52.247940700Z"
    }
   },
   "cell_type": "code",
   "source": [
    "%%sql\n",
    "pragma table_info(eggProdu);\n",
    "\n",
    " -- هذا الأمر يعطينا هيكل الجدول وأسماء الأعمدة وأنواع البيانات"
   ],
   "id": "8c810548d90cfe8f",
   "outputs": [
    {
     "data": {
      "text/plain": [
       "   cid          name     type  notnull  dflt_value  pk\n",
       "0    0          Year  INTEGER        0         NaN   0\n",
       "1    1        Period     TEXT        0         NaN   0\n",
       "2    2     Geo_Level     TEXT        0         NaN   0\n",
       "3    3    State_ANSI  INTEGER        0         NaN   0\n",
       "4    4  Commodity_ID  INTEGER        0         NaN   0\n",
       "5    5         Value     TEXT        0         NaN   0"
      ],
      "text/html": [
       "<div>\n",
       "<style scoped>\n",
       "    .dataframe tbody tr th:only-of-type {\n",
       "        vertical-align: middle;\n",
       "    }\n",
       "\n",
       "    .dataframe tbody tr th {\n",
       "        vertical-align: top;\n",
       "    }\n",
       "\n",
       "    .dataframe thead th {\n",
       "        text-align: right;\n",
       "    }\n",
       "</style>\n",
       "<table border=\"1\" class=\"dataframe\">\n",
       "  <thead>\n",
       "    <tr style=\"text-align: right;\">\n",
       "      <th></th>\n",
       "      <th>cid</th>\n",
       "      <th>name</th>\n",
       "      <th>type</th>\n",
       "      <th>notnull</th>\n",
       "      <th>dflt_value</th>\n",
       "      <th>pk</th>\n",
       "    </tr>\n",
       "  </thead>\n",
       "  <tbody>\n",
       "    <tr>\n",
       "      <th>0</th>\n",
       "      <td>0</td>\n",
       "      <td>Year</td>\n",
       "      <td>INTEGER</td>\n",
       "      <td>0</td>\n",
       "      <td>NaN</td>\n",
       "      <td>0</td>\n",
       "    </tr>\n",
       "    <tr>\n",
       "      <th>1</th>\n",
       "      <td>1</td>\n",
       "      <td>Period</td>\n",
       "      <td>TEXT</td>\n",
       "      <td>0</td>\n",
       "      <td>NaN</td>\n",
       "      <td>0</td>\n",
       "    </tr>\n",
       "    <tr>\n",
       "      <th>2</th>\n",
       "      <td>2</td>\n",
       "      <td>Geo_Level</td>\n",
       "      <td>TEXT</td>\n",
       "      <td>0</td>\n",
       "      <td>NaN</td>\n",
       "      <td>0</td>\n",
       "    </tr>\n",
       "    <tr>\n",
       "      <th>3</th>\n",
       "      <td>3</td>\n",
       "      <td>State_ANSI</td>\n",
       "      <td>INTEGER</td>\n",
       "      <td>0</td>\n",
       "      <td>NaN</td>\n",
       "      <td>0</td>\n",
       "    </tr>\n",
       "    <tr>\n",
       "      <th>4</th>\n",
       "      <td>4</td>\n",
       "      <td>Commodity_ID</td>\n",
       "      <td>INTEGER</td>\n",
       "      <td>0</td>\n",
       "      <td>NaN</td>\n",
       "      <td>0</td>\n",
       "    </tr>\n",
       "    <tr>\n",
       "      <th>5</th>\n",
       "      <td>5</td>\n",
       "      <td>Value</td>\n",
       "      <td>TEXT</td>\n",
       "      <td>0</td>\n",
       "      <td>NaN</td>\n",
       "      <td>0</td>\n",
       "    </tr>\n",
       "  </tbody>\n",
       "</table>\n",
       "</div>"
      ]
     },
     "execution_count": 2,
     "metadata": {},
     "output_type": "execute_result"
    }
   ],
   "execution_count": 2
  },
  {
   "metadata": {},
   "cell_type": "markdown",
   "source": [
    "# الخطوة الثالثة:\n",
    " ### معرفة البيانات الفارغة \n",
    " ### بهدف إجراء عملية تنظيف لها"
   ],
   "id": "e086248fb9d3de63"
  },
  {
   "metadata": {
    "SqlCellData": {
     "data_source_name": "USDA",
     "variableName$1": "df_sql2"
    },
    "ExecuteTime": {
     "end_time": "2024-11-03T18:52:11.512319Z",
     "start_time": "2024-11-03T18:52:11.276776400Z"
    }
   },
   "cell_type": "code",
   "source": [
    "%%sql\n",
    "SELECT * from eggProdu \n",
    "where State_ANSI is null;"
   ],
   "id": "514bb3633d233cea",
   "outputs": [
    {
     "data": {
      "text/plain": [
       "     Year Period Geo_Level  State_ANSI  Commodity_ID        Value\n",
       "0    2023    APR     STATE         NaN             7  747,300,000\n",
       "1    2023    FEB     STATE         NaN             7  689,100,000\n",
       "2    2023    JAN     STATE         NaN             7  767,700,000\n",
       "3    2023    MAR     STATE         NaN             7  763,300,000\n",
       "4    2023    MAY     STATE         NaN             7  775,700,000\n",
       "..    ...    ...       ...         ...           ...          ...\n",
       "196  2008    MAY     STATE         NaN             7  505,000,000\n",
       "197  2008    NOV     STATE         NaN             7  497,000,000\n",
       "198  2008    OCT     STATE         NaN             7  506,000,000\n",
       "199  2008    SEP     STATE         NaN             7  497,000,000\n",
       "200  2007    DEC     STATE         NaN             7  527,000,000\n",
       "\n",
       "[201 rows x 6 columns]"
      ],
      "text/html": [
       "<div>\n",
       "<style scoped>\n",
       "    .dataframe tbody tr th:only-of-type {\n",
       "        vertical-align: middle;\n",
       "    }\n",
       "\n",
       "    .dataframe tbody tr th {\n",
       "        vertical-align: top;\n",
       "    }\n",
       "\n",
       "    .dataframe thead th {\n",
       "        text-align: right;\n",
       "    }\n",
       "</style>\n",
       "<table border=\"1\" class=\"dataframe\">\n",
       "  <thead>\n",
       "    <tr style=\"text-align: right;\">\n",
       "      <th></th>\n",
       "      <th>Year</th>\n",
       "      <th>Period</th>\n",
       "      <th>Geo_Level</th>\n",
       "      <th>State_ANSI</th>\n",
       "      <th>Commodity_ID</th>\n",
       "      <th>Value</th>\n",
       "    </tr>\n",
       "  </thead>\n",
       "  <tbody>\n",
       "    <tr>\n",
       "      <th>0</th>\n",
       "      <td>2023</td>\n",
       "      <td>APR</td>\n",
       "      <td>STATE</td>\n",
       "      <td>NaN</td>\n",
       "      <td>7</td>\n",
       "      <td>747,300,000</td>\n",
       "    </tr>\n",
       "    <tr>\n",
       "      <th>1</th>\n",
       "      <td>2023</td>\n",
       "      <td>FEB</td>\n",
       "      <td>STATE</td>\n",
       "      <td>NaN</td>\n",
       "      <td>7</td>\n",
       "      <td>689,100,000</td>\n",
       "    </tr>\n",
       "    <tr>\n",
       "      <th>2</th>\n",
       "      <td>2023</td>\n",
       "      <td>JAN</td>\n",
       "      <td>STATE</td>\n",
       "      <td>NaN</td>\n",
       "      <td>7</td>\n",
       "      <td>767,700,000</td>\n",
       "    </tr>\n",
       "    <tr>\n",
       "      <th>3</th>\n",
       "      <td>2023</td>\n",
       "      <td>MAR</td>\n",
       "      <td>STATE</td>\n",
       "      <td>NaN</td>\n",
       "      <td>7</td>\n",
       "      <td>763,300,000</td>\n",
       "    </tr>\n",
       "    <tr>\n",
       "      <th>4</th>\n",
       "      <td>2023</td>\n",
       "      <td>MAY</td>\n",
       "      <td>STATE</td>\n",
       "      <td>NaN</td>\n",
       "      <td>7</td>\n",
       "      <td>775,700,000</td>\n",
       "    </tr>\n",
       "    <tr>\n",
       "      <th>...</th>\n",
       "      <td>...</td>\n",
       "      <td>...</td>\n",
       "      <td>...</td>\n",
       "      <td>...</td>\n",
       "      <td>...</td>\n",
       "      <td>...</td>\n",
       "    </tr>\n",
       "    <tr>\n",
       "      <th>196</th>\n",
       "      <td>2008</td>\n",
       "      <td>MAY</td>\n",
       "      <td>STATE</td>\n",
       "      <td>NaN</td>\n",
       "      <td>7</td>\n",
       "      <td>505,000,000</td>\n",
       "    </tr>\n",
       "    <tr>\n",
       "      <th>197</th>\n",
       "      <td>2008</td>\n",
       "      <td>NOV</td>\n",
       "      <td>STATE</td>\n",
       "      <td>NaN</td>\n",
       "      <td>7</td>\n",
       "      <td>497,000,000</td>\n",
       "    </tr>\n",
       "    <tr>\n",
       "      <th>198</th>\n",
       "      <td>2008</td>\n",
       "      <td>OCT</td>\n",
       "      <td>STATE</td>\n",
       "      <td>NaN</td>\n",
       "      <td>7</td>\n",
       "      <td>506,000,000</td>\n",
       "    </tr>\n",
       "    <tr>\n",
       "      <th>199</th>\n",
       "      <td>2008</td>\n",
       "      <td>SEP</td>\n",
       "      <td>STATE</td>\n",
       "      <td>NaN</td>\n",
       "      <td>7</td>\n",
       "      <td>497,000,000</td>\n",
       "    </tr>\n",
       "    <tr>\n",
       "      <th>200</th>\n",
       "      <td>2007</td>\n",
       "      <td>DEC</td>\n",
       "      <td>STATE</td>\n",
       "      <td>NaN</td>\n",
       "      <td>7</td>\n",
       "      <td>527,000,000</td>\n",
       "    </tr>\n",
       "  </tbody>\n",
       "</table>\n",
       "<p>201 rows × 6 columns</p>\n",
       "</div>"
      ]
     },
     "execution_count": 7,
     "metadata": {},
     "output_type": "execute_result"
    }
   ],
   "execution_count": 7
  },
  {
   "metadata": {
    "SqlCellData": {
     "data_source_name": "USDA",
     "variableName$1": "df_sql4"
    },
    "ExecuteTime": {
     "end_time": "2024-11-03T18:54:19.174515Z",
     "start_time": "2024-11-03T18:54:18.908277500Z"
    }
   },
   "cell_type": "code",
   "source": [
    "%%sql\n",
    "SELECT * from honeyProdu \n",
    "where honeyProdu.State_ANSI is null;"
   ],
   "id": "43f2bf3af361a73a",
   "outputs": [
    {
     "data": {
      "text/plain": [
       "    Year Geo_Level  State_ANSI  Commodity_ID      Value\n",
       "0   2022     STATE         NaN             2  3,316,000\n",
       "1   2021     STATE         NaN             2  1,349,000\n",
       "2   2020     STATE         NaN             2  1,375,000\n",
       "3   2019     STATE         NaN             2  1,418,000\n",
       "4   2018     STATE         NaN             2  1,399,000\n",
       "5   2017     STATE         NaN             2  1,518,000\n",
       "6   2016     STATE         NaN             2  1,601,000\n",
       "7   2015     STATE         NaN             2  1,168,000\n",
       "8   2014     STATE         NaN             2  1,404,000\n",
       "9   2013     STATE         NaN             2  1,295,000\n",
       "10  2012     STATE         NaN             2  1,389,000\n",
       "11  2011     STATE         NaN             2  1,156,000\n",
       "12  2010     STATE         NaN             2  1,168,000\n",
       "13  2009     STATE         NaN             2  1,348,000\n",
       "14  2008     STATE         NaN             2    817,000\n",
       "15  2007     STATE         NaN             2    720,000\n",
       "16  2006     STATE         NaN             2    672,000\n",
       "17  2005     STATE         NaN             2    645,000\n",
       "18  2004     STATE         NaN             2    765,000\n",
       "19  2003     STATE         NaN             2    352,000\n",
       "20  2002     STATE         NaN             2    453,000\n",
       "21  2001     STATE         NaN             2    303,000\n",
       "22  2000     STATE         NaN             2    728,000\n",
       "23  1999     STATE         NaN             2    681,000\n",
       "24  1998     STATE         NaN             2  1,008,000\n",
       "25  1997     STATE         NaN             2  1,134,000\n",
       "26  1996     STATE         NaN             2    217,000\n",
       "27  1995     STATE         NaN             2    264,000\n",
       "28  1994     STATE         NaN             2    222,000\n",
       "29  1993     STATE         NaN             2    360,000\n",
       "30  1992     STATE         NaN             2    234,000\n",
       "31  1991     STATE         NaN             2    252,000"
      ],
      "text/html": [
       "<div>\n",
       "<style scoped>\n",
       "    .dataframe tbody tr th:only-of-type {\n",
       "        vertical-align: middle;\n",
       "    }\n",
       "\n",
       "    .dataframe tbody tr th {\n",
       "        vertical-align: top;\n",
       "    }\n",
       "\n",
       "    .dataframe thead th {\n",
       "        text-align: right;\n",
       "    }\n",
       "</style>\n",
       "<table border=\"1\" class=\"dataframe\">\n",
       "  <thead>\n",
       "    <tr style=\"text-align: right;\">\n",
       "      <th></th>\n",
       "      <th>Year</th>\n",
       "      <th>Geo_Level</th>\n",
       "      <th>State_ANSI</th>\n",
       "      <th>Commodity_ID</th>\n",
       "      <th>Value</th>\n",
       "    </tr>\n",
       "  </thead>\n",
       "  <tbody>\n",
       "    <tr>\n",
       "      <th>0</th>\n",
       "      <td>2022</td>\n",
       "      <td>STATE</td>\n",
       "      <td>NaN</td>\n",
       "      <td>2</td>\n",
       "      <td>3,316,000</td>\n",
       "    </tr>\n",
       "    <tr>\n",
       "      <th>1</th>\n",
       "      <td>2021</td>\n",
       "      <td>STATE</td>\n",
       "      <td>NaN</td>\n",
       "      <td>2</td>\n",
       "      <td>1,349,000</td>\n",
       "    </tr>\n",
       "    <tr>\n",
       "      <th>2</th>\n",
       "      <td>2020</td>\n",
       "      <td>STATE</td>\n",
       "      <td>NaN</td>\n",
       "      <td>2</td>\n",
       "      <td>1,375,000</td>\n",
       "    </tr>\n",
       "    <tr>\n",
       "      <th>3</th>\n",
       "      <td>2019</td>\n",
       "      <td>STATE</td>\n",
       "      <td>NaN</td>\n",
       "      <td>2</td>\n",
       "      <td>1,418,000</td>\n",
       "    </tr>\n",
       "    <tr>\n",
       "      <th>4</th>\n",
       "      <td>2018</td>\n",
       "      <td>STATE</td>\n",
       "      <td>NaN</td>\n",
       "      <td>2</td>\n",
       "      <td>1,399,000</td>\n",
       "    </tr>\n",
       "    <tr>\n",
       "      <th>5</th>\n",
       "      <td>2017</td>\n",
       "      <td>STATE</td>\n",
       "      <td>NaN</td>\n",
       "      <td>2</td>\n",
       "      <td>1,518,000</td>\n",
       "    </tr>\n",
       "    <tr>\n",
       "      <th>6</th>\n",
       "      <td>2016</td>\n",
       "      <td>STATE</td>\n",
       "      <td>NaN</td>\n",
       "      <td>2</td>\n",
       "      <td>1,601,000</td>\n",
       "    </tr>\n",
       "    <tr>\n",
       "      <th>7</th>\n",
       "      <td>2015</td>\n",
       "      <td>STATE</td>\n",
       "      <td>NaN</td>\n",
       "      <td>2</td>\n",
       "      <td>1,168,000</td>\n",
       "    </tr>\n",
       "    <tr>\n",
       "      <th>8</th>\n",
       "      <td>2014</td>\n",
       "      <td>STATE</td>\n",
       "      <td>NaN</td>\n",
       "      <td>2</td>\n",
       "      <td>1,404,000</td>\n",
       "    </tr>\n",
       "    <tr>\n",
       "      <th>9</th>\n",
       "      <td>2013</td>\n",
       "      <td>STATE</td>\n",
       "      <td>NaN</td>\n",
       "      <td>2</td>\n",
       "      <td>1,295,000</td>\n",
       "    </tr>\n",
       "    <tr>\n",
       "      <th>10</th>\n",
       "      <td>2012</td>\n",
       "      <td>STATE</td>\n",
       "      <td>NaN</td>\n",
       "      <td>2</td>\n",
       "      <td>1,389,000</td>\n",
       "    </tr>\n",
       "    <tr>\n",
       "      <th>11</th>\n",
       "      <td>2011</td>\n",
       "      <td>STATE</td>\n",
       "      <td>NaN</td>\n",
       "      <td>2</td>\n",
       "      <td>1,156,000</td>\n",
       "    </tr>\n",
       "    <tr>\n",
       "      <th>12</th>\n",
       "      <td>2010</td>\n",
       "      <td>STATE</td>\n",
       "      <td>NaN</td>\n",
       "      <td>2</td>\n",
       "      <td>1,168,000</td>\n",
       "    </tr>\n",
       "    <tr>\n",
       "      <th>13</th>\n",
       "      <td>2009</td>\n",
       "      <td>STATE</td>\n",
       "      <td>NaN</td>\n",
       "      <td>2</td>\n",
       "      <td>1,348,000</td>\n",
       "    </tr>\n",
       "    <tr>\n",
       "      <th>14</th>\n",
       "      <td>2008</td>\n",
       "      <td>STATE</td>\n",
       "      <td>NaN</td>\n",
       "      <td>2</td>\n",
       "      <td>817,000</td>\n",
       "    </tr>\n",
       "    <tr>\n",
       "      <th>15</th>\n",
       "      <td>2007</td>\n",
       "      <td>STATE</td>\n",
       "      <td>NaN</td>\n",
       "      <td>2</td>\n",
       "      <td>720,000</td>\n",
       "    </tr>\n",
       "    <tr>\n",
       "      <th>16</th>\n",
       "      <td>2006</td>\n",
       "      <td>STATE</td>\n",
       "      <td>NaN</td>\n",
       "      <td>2</td>\n",
       "      <td>672,000</td>\n",
       "    </tr>\n",
       "    <tr>\n",
       "      <th>17</th>\n",
       "      <td>2005</td>\n",
       "      <td>STATE</td>\n",
       "      <td>NaN</td>\n",
       "      <td>2</td>\n",
       "      <td>645,000</td>\n",
       "    </tr>\n",
       "    <tr>\n",
       "      <th>18</th>\n",
       "      <td>2004</td>\n",
       "      <td>STATE</td>\n",
       "      <td>NaN</td>\n",
       "      <td>2</td>\n",
       "      <td>765,000</td>\n",
       "    </tr>\n",
       "    <tr>\n",
       "      <th>19</th>\n",
       "      <td>2003</td>\n",
       "      <td>STATE</td>\n",
       "      <td>NaN</td>\n",
       "      <td>2</td>\n",
       "      <td>352,000</td>\n",
       "    </tr>\n",
       "    <tr>\n",
       "      <th>20</th>\n",
       "      <td>2002</td>\n",
       "      <td>STATE</td>\n",
       "      <td>NaN</td>\n",
       "      <td>2</td>\n",
       "      <td>453,000</td>\n",
       "    </tr>\n",
       "    <tr>\n",
       "      <th>21</th>\n",
       "      <td>2001</td>\n",
       "      <td>STATE</td>\n",
       "      <td>NaN</td>\n",
       "      <td>2</td>\n",
       "      <td>303,000</td>\n",
       "    </tr>\n",
       "    <tr>\n",
       "      <th>22</th>\n",
       "      <td>2000</td>\n",
       "      <td>STATE</td>\n",
       "      <td>NaN</td>\n",
       "      <td>2</td>\n",
       "      <td>728,000</td>\n",
       "    </tr>\n",
       "    <tr>\n",
       "      <th>23</th>\n",
       "      <td>1999</td>\n",
       "      <td>STATE</td>\n",
       "      <td>NaN</td>\n",
       "      <td>2</td>\n",
       "      <td>681,000</td>\n",
       "    </tr>\n",
       "    <tr>\n",
       "      <th>24</th>\n",
       "      <td>1998</td>\n",
       "      <td>STATE</td>\n",
       "      <td>NaN</td>\n",
       "      <td>2</td>\n",
       "      <td>1,008,000</td>\n",
       "    </tr>\n",
       "    <tr>\n",
       "      <th>25</th>\n",
       "      <td>1997</td>\n",
       "      <td>STATE</td>\n",
       "      <td>NaN</td>\n",
       "      <td>2</td>\n",
       "      <td>1,134,000</td>\n",
       "    </tr>\n",
       "    <tr>\n",
       "      <th>26</th>\n",
       "      <td>1996</td>\n",
       "      <td>STATE</td>\n",
       "      <td>NaN</td>\n",
       "      <td>2</td>\n",
       "      <td>217,000</td>\n",
       "    </tr>\n",
       "    <tr>\n",
       "      <th>27</th>\n",
       "      <td>1995</td>\n",
       "      <td>STATE</td>\n",
       "      <td>NaN</td>\n",
       "      <td>2</td>\n",
       "      <td>264,000</td>\n",
       "    </tr>\n",
       "    <tr>\n",
       "      <th>28</th>\n",
       "      <td>1994</td>\n",
       "      <td>STATE</td>\n",
       "      <td>NaN</td>\n",
       "      <td>2</td>\n",
       "      <td>222,000</td>\n",
       "    </tr>\n",
       "    <tr>\n",
       "      <th>29</th>\n",
       "      <td>1993</td>\n",
       "      <td>STATE</td>\n",
       "      <td>NaN</td>\n",
       "      <td>2</td>\n",
       "      <td>360,000</td>\n",
       "    </tr>\n",
       "    <tr>\n",
       "      <th>30</th>\n",
       "      <td>1992</td>\n",
       "      <td>STATE</td>\n",
       "      <td>NaN</td>\n",
       "      <td>2</td>\n",
       "      <td>234,000</td>\n",
       "    </tr>\n",
       "    <tr>\n",
       "      <th>31</th>\n",
       "      <td>1991</td>\n",
       "      <td>STATE</td>\n",
       "      <td>NaN</td>\n",
       "      <td>2</td>\n",
       "      <td>252,000</td>\n",
       "    </tr>\n",
       "  </tbody>\n",
       "</table>\n",
       "</div>"
      ]
     },
     "execution_count": 13,
     "metadata": {},
     "output_type": "execute_result"
    }
   ],
   "execution_count": 13
  },
  {
   "metadata": {
    "SqlCellData": {
     "data_source_name": "USDA",
     "variableName$1": "df_sql3"
    },
    "ExecuteTime": {
     "end_time": "2024-11-03T18:53:33.288221Z",
     "start_time": "2024-11-03T18:53:33.051205100Z"
    }
   },
   "cell_type": "code",
   "source": [
    "%%sql\n",
    "SELECT * from milkProdu \n",
    "where State_ANSI is null;"
   ],
   "id": "4713d048b92bbb49",
   "outputs": [
    {
     "data": {
      "text/plain": [
       "   Year Period Geo_Level  State_ANSI  Commodity_ID Domain      Value\n",
       "0  2022   YEAR     STATE         NaN             5  TOTAL  5,000,000\n",
       "1  2021   YEAR     STATE         NaN             5  TOTAL  5,500,000\n",
       "2  2020   YEAR     STATE         NaN             5  TOTAL  4,800,000\n",
       "3  2019   YEAR     STATE         NaN             5  TOTAL  4,900,000"
      ],
      "text/html": [
       "<div>\n",
       "<style scoped>\n",
       "    .dataframe tbody tr th:only-of-type {\n",
       "        vertical-align: middle;\n",
       "    }\n",
       "\n",
       "    .dataframe tbody tr th {\n",
       "        vertical-align: top;\n",
       "    }\n",
       "\n",
       "    .dataframe thead th {\n",
       "        text-align: right;\n",
       "    }\n",
       "</style>\n",
       "<table border=\"1\" class=\"dataframe\">\n",
       "  <thead>\n",
       "    <tr style=\"text-align: right;\">\n",
       "      <th></th>\n",
       "      <th>Year</th>\n",
       "      <th>Period</th>\n",
       "      <th>Geo_Level</th>\n",
       "      <th>State_ANSI</th>\n",
       "      <th>Commodity_ID</th>\n",
       "      <th>Domain</th>\n",
       "      <th>Value</th>\n",
       "    </tr>\n",
       "  </thead>\n",
       "  <tbody>\n",
       "    <tr>\n",
       "      <th>0</th>\n",
       "      <td>2022</td>\n",
       "      <td>YEAR</td>\n",
       "      <td>STATE</td>\n",
       "      <td>NaN</td>\n",
       "      <td>5</td>\n",
       "      <td>TOTAL</td>\n",
       "      <td>5,000,000</td>\n",
       "    </tr>\n",
       "    <tr>\n",
       "      <th>1</th>\n",
       "      <td>2021</td>\n",
       "      <td>YEAR</td>\n",
       "      <td>STATE</td>\n",
       "      <td>NaN</td>\n",
       "      <td>5</td>\n",
       "      <td>TOTAL</td>\n",
       "      <td>5,500,000</td>\n",
       "    </tr>\n",
       "    <tr>\n",
       "      <th>2</th>\n",
       "      <td>2020</td>\n",
       "      <td>YEAR</td>\n",
       "      <td>STATE</td>\n",
       "      <td>NaN</td>\n",
       "      <td>5</td>\n",
       "      <td>TOTAL</td>\n",
       "      <td>4,800,000</td>\n",
       "    </tr>\n",
       "    <tr>\n",
       "      <th>3</th>\n",
       "      <td>2019</td>\n",
       "      <td>YEAR</td>\n",
       "      <td>STATE</td>\n",
       "      <td>NaN</td>\n",
       "      <td>5</td>\n",
       "      <td>TOTAL</td>\n",
       "      <td>4,900,000</td>\n",
       "    </tr>\n",
       "  </tbody>\n",
       "</table>\n",
       "</div>"
      ]
     },
     "execution_count": 11,
     "metadata": {},
     "output_type": "execute_result"
    }
   ],
   "execution_count": 11
  },
  {
   "metadata": {
    "SqlCellData": {
     "data_source_name": "USDA",
     "variableName$1": "df_sql5"
    },
    "ExecuteTime": {
     "end_time": "2024-11-03T18:55:20.196519Z",
     "start_time": "2024-11-03T18:55:19.900435500Z"
    }
   },
   "cell_type": "code",
   "source": [
    "%%sql\n",
    "select * from cheeseProdu\n",
    "where State_ANSI is null;"
   ],
   "id": "fd4f95cf52afde",
   "outputs": [
    {
     "data": {
      "text/plain": [
       "     Year Period Geo_Level  State_ANSI  Commodity_ID Domain        Value\n",
       "0    2023    APR     STATE         NaN             6  TOTAL  215,206,000\n",
       "1    2023    FEB     STATE         NaN             6  TOTAL  196,281,000\n",
       "2    2023    JAN     STATE         NaN             6  TOTAL  259,418,000\n",
       "3    2023    MAR     STATE         NaN             6  TOTAL  221,694,000\n",
       "4    2022    APR     STATE         NaN             6  TOTAL  209,955,000\n",
       "..    ...    ...       ...         ...           ...    ...          ...\n",
       "448  1974   YEAR     STATE         NaN             6  TOTAL   33,610,000\n",
       "449  1973   YEAR     STATE         NaN             6  TOTAL   27,858,000\n",
       "450  1972   YEAR     STATE         NaN             6  TOTAL   40,823,000\n",
       "451  1971   YEAR     STATE         NaN             6  TOTAL   30,660,000\n",
       "452  1970   YEAR     STATE         NaN             6  TOTAL   22,847,000\n",
       "\n",
       "[453 rows x 7 columns]"
      ],
      "text/html": [
       "<div>\n",
       "<style scoped>\n",
       "    .dataframe tbody tr th:only-of-type {\n",
       "        vertical-align: middle;\n",
       "    }\n",
       "\n",
       "    .dataframe tbody tr th {\n",
       "        vertical-align: top;\n",
       "    }\n",
       "\n",
       "    .dataframe thead th {\n",
       "        text-align: right;\n",
       "    }\n",
       "</style>\n",
       "<table border=\"1\" class=\"dataframe\">\n",
       "  <thead>\n",
       "    <tr style=\"text-align: right;\">\n",
       "      <th></th>\n",
       "      <th>Year</th>\n",
       "      <th>Period</th>\n",
       "      <th>Geo_Level</th>\n",
       "      <th>State_ANSI</th>\n",
       "      <th>Commodity_ID</th>\n",
       "      <th>Domain</th>\n",
       "      <th>Value</th>\n",
       "    </tr>\n",
       "  </thead>\n",
       "  <tbody>\n",
       "    <tr>\n",
       "      <th>0</th>\n",
       "      <td>2023</td>\n",
       "      <td>APR</td>\n",
       "      <td>STATE</td>\n",
       "      <td>NaN</td>\n",
       "      <td>6</td>\n",
       "      <td>TOTAL</td>\n",
       "      <td>215,206,000</td>\n",
       "    </tr>\n",
       "    <tr>\n",
       "      <th>1</th>\n",
       "      <td>2023</td>\n",
       "      <td>FEB</td>\n",
       "      <td>STATE</td>\n",
       "      <td>NaN</td>\n",
       "      <td>6</td>\n",
       "      <td>TOTAL</td>\n",
       "      <td>196,281,000</td>\n",
       "    </tr>\n",
       "    <tr>\n",
       "      <th>2</th>\n",
       "      <td>2023</td>\n",
       "      <td>JAN</td>\n",
       "      <td>STATE</td>\n",
       "      <td>NaN</td>\n",
       "      <td>6</td>\n",
       "      <td>TOTAL</td>\n",
       "      <td>259,418,000</td>\n",
       "    </tr>\n",
       "    <tr>\n",
       "      <th>3</th>\n",
       "      <td>2023</td>\n",
       "      <td>MAR</td>\n",
       "      <td>STATE</td>\n",
       "      <td>NaN</td>\n",
       "      <td>6</td>\n",
       "      <td>TOTAL</td>\n",
       "      <td>221,694,000</td>\n",
       "    </tr>\n",
       "    <tr>\n",
       "      <th>4</th>\n",
       "      <td>2022</td>\n",
       "      <td>APR</td>\n",
       "      <td>STATE</td>\n",
       "      <td>NaN</td>\n",
       "      <td>6</td>\n",
       "      <td>TOTAL</td>\n",
       "      <td>209,955,000</td>\n",
       "    </tr>\n",
       "    <tr>\n",
       "      <th>...</th>\n",
       "      <td>...</td>\n",
       "      <td>...</td>\n",
       "      <td>...</td>\n",
       "      <td>...</td>\n",
       "      <td>...</td>\n",
       "      <td>...</td>\n",
       "      <td>...</td>\n",
       "    </tr>\n",
       "    <tr>\n",
       "      <th>448</th>\n",
       "      <td>1974</td>\n",
       "      <td>YEAR</td>\n",
       "      <td>STATE</td>\n",
       "      <td>NaN</td>\n",
       "      <td>6</td>\n",
       "      <td>TOTAL</td>\n",
       "      <td>33,610,000</td>\n",
       "    </tr>\n",
       "    <tr>\n",
       "      <th>449</th>\n",
       "      <td>1973</td>\n",
       "      <td>YEAR</td>\n",
       "      <td>STATE</td>\n",
       "      <td>NaN</td>\n",
       "      <td>6</td>\n",
       "      <td>TOTAL</td>\n",
       "      <td>27,858,000</td>\n",
       "    </tr>\n",
       "    <tr>\n",
       "      <th>450</th>\n",
       "      <td>1972</td>\n",
       "      <td>YEAR</td>\n",
       "      <td>STATE</td>\n",
       "      <td>NaN</td>\n",
       "      <td>6</td>\n",
       "      <td>TOTAL</td>\n",
       "      <td>40,823,000</td>\n",
       "    </tr>\n",
       "    <tr>\n",
       "      <th>451</th>\n",
       "      <td>1971</td>\n",
       "      <td>YEAR</td>\n",
       "      <td>STATE</td>\n",
       "      <td>NaN</td>\n",
       "      <td>6</td>\n",
       "      <td>TOTAL</td>\n",
       "      <td>30,660,000</td>\n",
       "    </tr>\n",
       "    <tr>\n",
       "      <th>452</th>\n",
       "      <td>1970</td>\n",
       "      <td>YEAR</td>\n",
       "      <td>STATE</td>\n",
       "      <td>NaN</td>\n",
       "      <td>6</td>\n",
       "      <td>TOTAL</td>\n",
       "      <td>22,847,000</td>\n",
       "    </tr>\n",
       "  </tbody>\n",
       "</table>\n",
       "<p>453 rows × 7 columns</p>\n",
       "</div>"
      ]
     },
     "execution_count": 14,
     "metadata": {},
     "output_type": "execute_result"
    }
   ],
   "execution_count": 14
  },
  {
   "metadata": {},
   "cell_type": "markdown",
   "source": "### الخطوة الرابعة: لدينا عمود القيم بنوع بيانات نص و المفروض يكون نوعه أرقام، سنقوم بتحويله إلى أرقام ",
   "id": "a7ecd5b8c7b6e730"
  },
  {
   "metadata": {
    "SqlCellData": {
     "data_source_name": "USDA",
     "variableName$1": "df_sql7"
    },
    "ExecuteTime": {
     "end_time": "2024-11-03T19:31:54.859430400Z",
     "start_time": "2024-11-03T19:31:54.641433400Z"
    }
   },
   "cell_type": "code",
   "source": [
    "%%sql\n",
    " -- احذف الفواصل من الأرقام كخطوة أولى لتحويل البيانات إلى أرقام\n",
    " \n",
    "update eggProdu set Value = replace(Value, ',', '')\n",
    "    where Value like '%,%';"
   ],
   "id": "82d7301135ecc434",
   "execution_count": 31,
   "outputs": []
  },
  {
   "metadata": {
    "SqlCellData": {
     "data_source_name": "USDA",
     "variableName$1": "df_sql8"
    },
    "ExecuteTime": {
     "end_time": "2024-11-03T19:34:05.438678Z",
     "start_time": "2024-11-03T19:34:04.561823300Z"
    }
   },
   "cell_type": "code",
   "source": [
    "%%sql\n",
    "select * from eggProdu;\n",
    "\n",
    " -- تم حذف الفواصل بنجاح لنقم بعمل هذا لكافة الجداول"
   ],
   "id": "1d578537b3f065a",
   "outputs": [
    {
     "data": {
      "text/plain": [
       "      Year Period Geo_Level  State_ANSI  Commodity_ID       Value\n",
       "0     2023    APR     STATE         1.0             7   224100000\n",
       "1     2023    APR     STATE         5.0             7   319000000\n",
       "2     2023    APR     STATE         6.0             7   271300000\n",
       "3     2023    APR     STATE         8.0             7    52200000\n",
       "4     2023    APR     STATE        13.0             7   437800000\n",
       "...    ...    ...       ...         ...           ...         ...\n",
       "6322  1948   YEAR     STATE        27.0             7  3646000000\n",
       "6323  1947   YEAR     STATE        27.0             7  3693000000\n",
       "6324  1946   YEAR     STATE        27.0             7  3899000000\n",
       "6325  1945   YEAR     STATE        27.0             7  3907000000\n",
       "6326  1944   YEAR     STATE        27.0             7  3718000000\n",
       "\n",
       "[6327 rows x 6 columns]"
      ],
      "text/html": [
       "<div>\n",
       "<style scoped>\n",
       "    .dataframe tbody tr th:only-of-type {\n",
       "        vertical-align: middle;\n",
       "    }\n",
       "\n",
       "    .dataframe tbody tr th {\n",
       "        vertical-align: top;\n",
       "    }\n",
       "\n",
       "    .dataframe thead th {\n",
       "        text-align: right;\n",
       "    }\n",
       "</style>\n",
       "<table border=\"1\" class=\"dataframe\">\n",
       "  <thead>\n",
       "    <tr style=\"text-align: right;\">\n",
       "      <th></th>\n",
       "      <th>Year</th>\n",
       "      <th>Period</th>\n",
       "      <th>Geo_Level</th>\n",
       "      <th>State_ANSI</th>\n",
       "      <th>Commodity_ID</th>\n",
       "      <th>Value</th>\n",
       "    </tr>\n",
       "  </thead>\n",
       "  <tbody>\n",
       "    <tr>\n",
       "      <th>0</th>\n",
       "      <td>2023</td>\n",
       "      <td>APR</td>\n",
       "      <td>STATE</td>\n",
       "      <td>1.0</td>\n",
       "      <td>7</td>\n",
       "      <td>224100000</td>\n",
       "    </tr>\n",
       "    <tr>\n",
       "      <th>1</th>\n",
       "      <td>2023</td>\n",
       "      <td>APR</td>\n",
       "      <td>STATE</td>\n",
       "      <td>5.0</td>\n",
       "      <td>7</td>\n",
       "      <td>319000000</td>\n",
       "    </tr>\n",
       "    <tr>\n",
       "      <th>2</th>\n",
       "      <td>2023</td>\n",
       "      <td>APR</td>\n",
       "      <td>STATE</td>\n",
       "      <td>6.0</td>\n",
       "      <td>7</td>\n",
       "      <td>271300000</td>\n",
       "    </tr>\n",
       "    <tr>\n",
       "      <th>3</th>\n",
       "      <td>2023</td>\n",
       "      <td>APR</td>\n",
       "      <td>STATE</td>\n",
       "      <td>8.0</td>\n",
       "      <td>7</td>\n",
       "      <td>52200000</td>\n",
       "    </tr>\n",
       "    <tr>\n",
       "      <th>4</th>\n",
       "      <td>2023</td>\n",
       "      <td>APR</td>\n",
       "      <td>STATE</td>\n",
       "      <td>13.0</td>\n",
       "      <td>7</td>\n",
       "      <td>437800000</td>\n",
       "    </tr>\n",
       "    <tr>\n",
       "      <th>...</th>\n",
       "      <td>...</td>\n",
       "      <td>...</td>\n",
       "      <td>...</td>\n",
       "      <td>...</td>\n",
       "      <td>...</td>\n",
       "      <td>...</td>\n",
       "    </tr>\n",
       "    <tr>\n",
       "      <th>6322</th>\n",
       "      <td>1948</td>\n",
       "      <td>YEAR</td>\n",
       "      <td>STATE</td>\n",
       "      <td>27.0</td>\n",
       "      <td>7</td>\n",
       "      <td>3646000000</td>\n",
       "    </tr>\n",
       "    <tr>\n",
       "      <th>6323</th>\n",
       "      <td>1947</td>\n",
       "      <td>YEAR</td>\n",
       "      <td>STATE</td>\n",
       "      <td>27.0</td>\n",
       "      <td>7</td>\n",
       "      <td>3693000000</td>\n",
       "    </tr>\n",
       "    <tr>\n",
       "      <th>6324</th>\n",
       "      <td>1946</td>\n",
       "      <td>YEAR</td>\n",
       "      <td>STATE</td>\n",
       "      <td>27.0</td>\n",
       "      <td>7</td>\n",
       "      <td>3899000000</td>\n",
       "    </tr>\n",
       "    <tr>\n",
       "      <th>6325</th>\n",
       "      <td>1945</td>\n",
       "      <td>YEAR</td>\n",
       "      <td>STATE</td>\n",
       "      <td>27.0</td>\n",
       "      <td>7</td>\n",
       "      <td>3907000000</td>\n",
       "    </tr>\n",
       "    <tr>\n",
       "      <th>6326</th>\n",
       "      <td>1944</td>\n",
       "      <td>YEAR</td>\n",
       "      <td>STATE</td>\n",
       "      <td>27.0</td>\n",
       "      <td>7</td>\n",
       "      <td>3718000000</td>\n",
       "    </tr>\n",
       "  </tbody>\n",
       "</table>\n",
       "<p>6327 rows × 6 columns</p>\n",
       "</div>"
      ]
     },
     "execution_count": 33,
     "metadata": {},
     "output_type": "execute_result"
    }
   ],
   "execution_count": 33
  },
  {
   "metadata": {
    "SqlCellData": {
     "data_source_name": "USDA",
     "variableName$1": "df_sql12"
    },
    "ExecuteTime": {
     "end_time": "2024-11-03T19:41:37.283683Z",
     "start_time": "2024-11-03T19:41:37.181678600Z"
    }
   },
   "cell_type": "code",
   "execution_count": null,
   "source": [
    "%%sql\n",
    "update honeyProdu set Value = replace(Value, ',', '')\n",
    "    where Value like '%,%';"
   ],
   "id": "11d59b0f72a547b8",
   "outputs": []
  },
  {
   "metadata": {
    "SqlCellData": {
     "data_source_name": "USDA",
     "variableName$1": "df_sql15"
    },
    "ExecuteTime": {
     "end_time": "2024-11-03T19:42:57.762345100Z",
     "start_time": "2024-11-03T19:42:57.632338900Z"
    }
   },
   "cell_type": "code",
   "execution_count": null,
   "source": [
    "%%sql\n",
    "\n",
    "update milkProdu set Value = replace(Value, ',', '')\n",
    "    where Value like '%,%';"
   ],
   "id": "b5fb011e3428de28",
   "outputs": []
  },
  {
   "metadata": {
    "SqlCellData": {
     "data_source_name": "USDA",
     "variableName$1": "df_sql16"
    },
    "ExecuteTime": {
     "end_time": "2024-11-03T19:42:49.278029200Z",
     "start_time": "2024-11-03T19:42:49.199027600Z"
    }
   },
   "cell_type": "code",
   "execution_count": null,
   "source": [
    "%%sql\n",
    "update cheeseProdu set Value = replace(Value, ',', '')\n",
    "    where Value like '%,%';"
   ],
   "id": "7777360a80c2a040",
   "outputs": []
  },
  {
   "metadata": {
    "SqlCellData": {
     "data_source_name": "USDA",
     "variableName$1": "df_sql18"
    }
   },
   "cell_type": "code",
   "source": [
    "%%sql\n",
    "update YougertProdu set Value = replace(Value, ',', '')\n",
    "    where Value like '%,%';"
   ],
   "id": "8f8ceb82e0c307cc",
   "outputs": [],
   "execution_count": null
  },
  {
   "metadata": {
    "SqlCellData": {
     "data_source_name": "USDA",
     "variableName$1": "df_sql19"
    },
    "ExecuteTime": {
     "end_time": "2024-11-03T19:41:01.318912100Z",
     "start_time": "2024-11-03T19:41:01.231916400Z"
    }
   },
   "cell_type": "code",
   "execution_count": null,
   "source": [
    "%%sql\n",
    "    update coffeeProdu set Value = replace(Value, ',', '')\n",
    "    where Value like '%,%';"
   ],
   "id": "a1b80f3a2653ec47",
   "outputs": []
  },
  {
   "metadata": {
    "SqlCellData": {
     "data_source_name": "USDA",
     "variableName$1": "df_sql11"
    },
    "ExecuteTime": {
     "end_time": "2024-11-03T19:43:44.885371Z",
     "start_time": "2024-11-03T19:43:44.747884Z"
    }
   },
   "cell_type": "code",
   "source": [
    "%%sql\n",
    " -- test\n",
    "select Value from YougertProdu;\n",
    "\n",
    "    -- تمت إزالة الفواصل ،جاهز للتحويل إلى أرقام!"
   ],
   "id": "d02a063b03e7006f",
   "outputs": [
    {
     "data": {
      "text/plain": [
       "         Value\n",
       "0    377839000\n",
       "1    793256000\n",
       "2    374637000\n",
       "3    774881000\n",
       "4    354906000\n",
       "..         ...\n",
       "144   11058000\n",
       "145  189012000\n",
       "146    2545000\n",
       "147   18988000\n",
       "148   10868000\n",
       "\n",
       "[149 rows x 1 columns]"
      ],
      "text/html": [
       "<div>\n",
       "<style scoped>\n",
       "    .dataframe tbody tr th:only-of-type {\n",
       "        vertical-align: middle;\n",
       "    }\n",
       "\n",
       "    .dataframe tbody tr th {\n",
       "        vertical-align: top;\n",
       "    }\n",
       "\n",
       "    .dataframe thead th {\n",
       "        text-align: right;\n",
       "    }\n",
       "</style>\n",
       "<table border=\"1\" class=\"dataframe\">\n",
       "  <thead>\n",
       "    <tr style=\"text-align: right;\">\n",
       "      <th></th>\n",
       "      <th>Value</th>\n",
       "    </tr>\n",
       "  </thead>\n",
       "  <tbody>\n",
       "    <tr>\n",
       "      <th>0</th>\n",
       "      <td>377839000</td>\n",
       "    </tr>\n",
       "    <tr>\n",
       "      <th>1</th>\n",
       "      <td>793256000</td>\n",
       "    </tr>\n",
       "    <tr>\n",
       "      <th>2</th>\n",
       "      <td>374637000</td>\n",
       "    </tr>\n",
       "    <tr>\n",
       "      <th>3</th>\n",
       "      <td>774881000</td>\n",
       "    </tr>\n",
       "    <tr>\n",
       "      <th>4</th>\n",
       "      <td>354906000</td>\n",
       "    </tr>\n",
       "    <tr>\n",
       "      <th>...</th>\n",
       "      <td>...</td>\n",
       "    </tr>\n",
       "    <tr>\n",
       "      <th>144</th>\n",
       "      <td>11058000</td>\n",
       "    </tr>\n",
       "    <tr>\n",
       "      <th>145</th>\n",
       "      <td>189012000</td>\n",
       "    </tr>\n",
       "    <tr>\n",
       "      <th>146</th>\n",
       "      <td>2545000</td>\n",
       "    </tr>\n",
       "    <tr>\n",
       "      <th>147</th>\n",
       "      <td>18988000</td>\n",
       "    </tr>\n",
       "    <tr>\n",
       "      <th>148</th>\n",
       "      <td>10868000</td>\n",
       "    </tr>\n",
       "  </tbody>\n",
       "</table>\n",
       "<p>149 rows × 1 columns</p>\n",
       "</div>"
      ]
     },
     "execution_count": 48,
     "metadata": {},
     "output_type": "execute_result"
    }
   ],
   "execution_count": 48
  },
  {
   "metadata": {},
   "cell_type": "markdown",
   "source": " ## الخطوة الخامسة:إضافة عمود جديد لتحويل القيم إليه",
   "id": "bc3b0f44626ad140"
  },
  {
   "metadata": {
    "SqlCellData": {
     "data_source_name": "USDA",
     "variableName$1": "df_sql25"
    }
   },
   "cell_type": "code",
   "outputs": [],
   "execution_count": null,
   "source": [
    "%%sql\n",
    "Alter Table eggProdu\n",
    "add column New_Values integer;\n",
    " -- نضيف عمود جديد لتحويل القيم إليه\n",
    " "
   ],
   "id": "143e49a9a9013cb5"
  },
  {
   "metadata": {
    "SqlCellData": {
     "data_source_name": "USDA",
     "variableName$1": "df_sql26"
    },
    "ExecuteTime": {
     "end_time": "2024-11-04T07:15:26.603196400Z",
     "start_time": "2024-11-04T07:15:26.520202500Z"
    }
   },
   "cell_type": "code",
   "execution_count": null,
   "source": [
    "%%sql\n",
    " -- نكرر العملية لكافة الجداول\n",
    "ALTER TABLE honeyProdu\n",
    "add column New_Values integer;"
   ],
   "id": "3a1404605f297099",
   "outputs": []
  },
  {
   "metadata": {
    "SqlCellData": {
     "data_source_name": "USDA",
     "variableName$1": "df_sql27"
    },
    "ExecuteTime": {
     "end_time": "2024-11-04T07:15:22.404557700Z",
     "start_time": "2024-11-04T07:15:22.312556400Z"
    }
   },
   "cell_type": "code",
   "execution_count": null,
   "source": [
    "%%sql\n",
    "ALTER TABLE milkProdu\n",
    "add column New_Values integer;\n"
   ],
   "id": "369faee13504b02c",
   "outputs": []
  },
  {
   "metadata": {
    "SqlCellData": {
     "data_source_name": "USDA",
     "variableName$1": "df_sql28"
    },
    "ExecuteTime": {
     "end_time": "2024-11-04T07:15:11.939297100Z",
     "start_time": "2024-11-04T07:15:11.861296Z"
    }
   },
   "cell_type": "code",
   "execution_count": null,
   "source": [
    "%%sql\n",
    "ALTER TABLE cheeseProdu\n",
    "add column New_Values integer;"
   ],
   "id": "7a0ad1e7f546fb1e",
   "outputs": []
  },
  {
   "metadata": {
    "SqlCellData": {
     "data_source_name": "USDA",
     "variableName$1": "df_sql29"
    },
    "ExecuteTime": {
     "end_time": "2024-11-04T07:15:06.803512700Z",
     "start_time": "2024-11-04T07:15:06.713515900Z"
    }
   },
   "cell_type": "code",
   "execution_count": null,
   "source": [
    "%%sql\n",
    "ALTER TABLE YougertProdu\n",
    "add column New_Values integer;"
   ],
   "id": "a2767bff2cb80f18",
   "outputs": []
  },
  {
   "metadata": {
    "SqlCellData": {
     "data_source_name": "USDA",
     "variableName$1": "df_sql30"
    },
    "ExecuteTime": {
     "end_time": "2024-11-04T07:15:02.705392100Z",
     "start_time": "2024-11-04T07:15:02.635398600Z"
    }
   },
   "cell_type": "code",
   "source": [
    "%%sql\n",
    "ALTER TABLE coffeeProdu\n",
    "add column New_Values integer;"
   ],
   "id": "d5c8117682748b7",
   "execution_count": 5,
   "outputs": []
  },
  {
   "metadata": {},
   "cell_type": "markdown",
   "source": " # نسخ القيم كأرقام وحفظها في العمود الجديد",
   "id": "9a6dc8603d61a36"
  },
  {
   "metadata": {},
   "cell_type": "markdown",
   "source": " ### بداية بجدول إنتاج البيض",
   "id": "c254794543bd506a"
  },
  {
   "metadata": {
    "SqlCellData": {
     "data_source_name": "USDA",
     "variableName$1": "df_sql21"
    },
    "ExecuteTime": {
     "end_time": "2024-11-04T07:07:20.701730500Z",
     "start_time": "2024-11-04T07:07:20.612739Z"
    }
   },
   "cell_type": "code",
   "source": [
    "%%sql\n",
    "update eggProdu set New_Values = cast(Value as integer)\n",
    "    where Value not like '%[^0-9]%';"
   ],
   "id": "e752dd59421d5634",
   "execution_count": 1,
   "outputs": []
  },
  {
   "metadata": {
    "SqlCellData": {
     "data_source_name": "USDA",
     "variableName$1": "df_sql23"
    },
    "ExecuteTime": {
     "end_time": "2024-11-04T07:19:34.760236Z",
     "start_time": "2024-11-04T07:19:34.103977500Z"
    }
   },
   "cell_type": "code",
   "source": [
    "%%sql\n",
    " -- test\n",
    "select new_values from eggProdu;\n",
    "    -- تم التحويل بنجاح"
   ],
   "id": "eb6afa111e2ec59a",
   "outputs": [
    {
     "data": {
      "text/plain": [
       "      New_Values\n",
       "0      224100000\n",
       "1      319000000\n",
       "2      271300000\n",
       "3       52200000\n",
       "4      437800000\n",
       "...          ...\n",
       "6322  3646000000\n",
       "6323  3693000000\n",
       "6324  3899000000\n",
       "6325  3907000000\n",
       "6326  3718000000\n",
       "\n",
       "[6327 rows x 1 columns]"
      ],
      "text/html": [
       "<div>\n",
       "<style scoped>\n",
       "    .dataframe tbody tr th:only-of-type {\n",
       "        vertical-align: middle;\n",
       "    }\n",
       "\n",
       "    .dataframe tbody tr th {\n",
       "        vertical-align: top;\n",
       "    }\n",
       "\n",
       "    .dataframe thead th {\n",
       "        text-align: right;\n",
       "    }\n",
       "</style>\n",
       "<table border=\"1\" class=\"dataframe\">\n",
       "  <thead>\n",
       "    <tr style=\"text-align: right;\">\n",
       "      <th></th>\n",
       "      <th>New_Values</th>\n",
       "    </tr>\n",
       "  </thead>\n",
       "  <tbody>\n",
       "    <tr>\n",
       "      <th>0</th>\n",
       "      <td>224100000</td>\n",
       "    </tr>\n",
       "    <tr>\n",
       "      <th>1</th>\n",
       "      <td>319000000</td>\n",
       "    </tr>\n",
       "    <tr>\n",
       "      <th>2</th>\n",
       "      <td>271300000</td>\n",
       "    </tr>\n",
       "    <tr>\n",
       "      <th>3</th>\n",
       "      <td>52200000</td>\n",
       "    </tr>\n",
       "    <tr>\n",
       "      <th>4</th>\n",
       "      <td>437800000</td>\n",
       "    </tr>\n",
       "    <tr>\n",
       "      <th>...</th>\n",
       "      <td>...</td>\n",
       "    </tr>\n",
       "    <tr>\n",
       "      <th>6322</th>\n",
       "      <td>3646000000</td>\n",
       "    </tr>\n",
       "    <tr>\n",
       "      <th>6323</th>\n",
       "      <td>3693000000</td>\n",
       "    </tr>\n",
       "    <tr>\n",
       "      <th>6324</th>\n",
       "      <td>3899000000</td>\n",
       "    </tr>\n",
       "    <tr>\n",
       "      <th>6325</th>\n",
       "      <td>3907000000</td>\n",
       "    </tr>\n",
       "    <tr>\n",
       "      <th>6326</th>\n",
       "      <td>3718000000</td>\n",
       "    </tr>\n",
       "  </tbody>\n",
       "</table>\n",
       "<p>6327 rows × 1 columns</p>\n",
       "</div>"
      ]
     },
     "execution_count": 9,
     "metadata": {},
     "output_type": "execute_result"
    }
   ],
   "execution_count": 9
  },
  {
   "metadata": {
    "SqlCellData": {
     "data_source_name": "USDA",
     "variableName$1": "df_sql24"
    },
    "ExecuteTime": {
     "end_time": "2024-11-04T07:19:07.604757400Z",
     "start_time": "2024-11-04T07:19:07.508759500Z"
    }
   },
   "cell_type": "code",
   "execution_count": null,
   "source": [
    "%%sql\n",
    " -- نحذف عمود القيم القديم\n",
    "alter table eggProdu drop column Value;"
   ],
   "id": "a37592a294b90147",
   "outputs": []
  },
  {
   "metadata": {},
   "cell_type": "markdown",
   "source": " ### ثانياً جدول إنتاج العسل",
   "id": "3c6ba5740c28f085"
  },
  {
   "metadata": {
    "SqlCellData": {
     "data_source_name": "USDA",
     "variableName$1": "df_sql32"
    }
   },
   "cell_type": "code",
   "outputs": [],
   "execution_count": null,
   "source": [
    "%%sql\n",
    "    -- نكرر العملية لكافة الجداول\n",
    "update honeyProdu set New_Values = cast(Value as integer)\n",
    "    where Value not like '%[^0-9]%';"
   ],
   "id": "7a4939ef243a08e5"
  },
  {
   "metadata": {
    "SqlCellData": {
     "data_source_name": "USDA",
     "variableName$1": "df_sql33"
    },
    "ExecuteTime": {
     "end_time": "2024-11-04T07:20:29.333023900Z",
     "start_time": "2024-11-04T07:20:29.278034Z"
    }
   },
   "cell_type": "code",
   "source": [
    "%%sql\n",
    "alter table honeyProdu drop column Value;"
   ],
   "id": "85389404d044d15e",
   "execution_count": 10,
   "outputs": []
  },
  {
   "metadata": {
    "SqlCellData": {
     "data_source_name": "USDA",
     "variableName$1": "df_sql34"
    },
    "ExecuteTime": {
     "end_time": "2024-11-04T07:21:26.951224Z",
     "start_time": "2024-11-04T07:21:26.752398100Z"
    }
   },
   "cell_type": "code",
   "source": [
    "%%sql\n",
    " -- test\n",
    "select new_values from honeyProdu;\n",
    "    -- تم التحويل بنجاح"
   ],
   "id": "5c4dfbbb2ebf4d7e",
   "outputs": [
    {
     "data": {
      "text/plain": [
       "      New_Values\n",
       "0         400000\n",
       "1        1035000\n",
       "2        1120000\n",
       "3       11590000\n",
       "4        1302000\n",
       "...          ...\n",
       "1554     1200000\n",
       "1555     4125000\n",
       "1556      861000\n",
       "1557     8924000\n",
       "1558     2886000\n",
       "\n",
       "[1559 rows x 1 columns]"
      ],
      "text/html": [
       "<div>\n",
       "<style scoped>\n",
       "    .dataframe tbody tr th:only-of-type {\n",
       "        vertical-align: middle;\n",
       "    }\n",
       "\n",
       "    .dataframe tbody tr th {\n",
       "        vertical-align: top;\n",
       "    }\n",
       "\n",
       "    .dataframe thead th {\n",
       "        text-align: right;\n",
       "    }\n",
       "</style>\n",
       "<table border=\"1\" class=\"dataframe\">\n",
       "  <thead>\n",
       "    <tr style=\"text-align: right;\">\n",
       "      <th></th>\n",
       "      <th>New_Values</th>\n",
       "    </tr>\n",
       "  </thead>\n",
       "  <tbody>\n",
       "    <tr>\n",
       "      <th>0</th>\n",
       "      <td>400000</td>\n",
       "    </tr>\n",
       "    <tr>\n",
       "      <th>1</th>\n",
       "      <td>1035000</td>\n",
       "    </tr>\n",
       "    <tr>\n",
       "      <th>2</th>\n",
       "      <td>1120000</td>\n",
       "    </tr>\n",
       "    <tr>\n",
       "      <th>3</th>\n",
       "      <td>11590000</td>\n",
       "    </tr>\n",
       "    <tr>\n",
       "      <th>4</th>\n",
       "      <td>1302000</td>\n",
       "    </tr>\n",
       "    <tr>\n",
       "      <th>...</th>\n",
       "      <td>...</td>\n",
       "    </tr>\n",
       "    <tr>\n",
       "      <th>1554</th>\n",
       "      <td>1200000</td>\n",
       "    </tr>\n",
       "    <tr>\n",
       "      <th>1555</th>\n",
       "      <td>4125000</td>\n",
       "    </tr>\n",
       "    <tr>\n",
       "      <th>1556</th>\n",
       "      <td>861000</td>\n",
       "    </tr>\n",
       "    <tr>\n",
       "      <th>1557</th>\n",
       "      <td>8924000</td>\n",
       "    </tr>\n",
       "    <tr>\n",
       "      <th>1558</th>\n",
       "      <td>2886000</td>\n",
       "    </tr>\n",
       "  </tbody>\n",
       "</table>\n",
       "<p>1559 rows × 1 columns</p>\n",
       "</div>"
      ]
     },
     "execution_count": 12,
     "metadata": {},
     "output_type": "execute_result"
    }
   ],
   "execution_count": 12
  },
  {
   "metadata": {},
   "cell_type": "markdown",
   "source": " ### ثالثاً جدول إنتاج الحليب",
   "id": "b84d3b13693c03eb"
  },
  {
   "metadata": {
    "SqlCellData": {
     "data_source_name": "USDA",
     "variableName$1": "df_sql35"
    },
    "ExecuteTime": {
     "end_time": "2024-11-04T07:21:54.598521400Z",
     "start_time": "2024-11-04T07:21:54.402529200Z"
    }
   },
   "cell_type": "code",
   "source": [
    "%%sql\n",
    "update milkProdu set New_Values = cast(Value as integer)\n",
    "    where Value not like '%[^0-9]%';"
   ],
   "id": "c1d209bd9b0d6ea3",
   "execution_count": 13,
   "outputs": []
  },
  {
   "metadata": {
    "SqlCellData": {
     "data_source_name": "USDA",
     "variableName$1": "df_sql36"
    },
    "ExecuteTime": {
     "end_time": "2024-11-04T07:22:09.860187100Z",
     "start_time": "2024-11-04T07:22:09.657193100Z"
    }
   },
   "cell_type": "code",
   "source": [
    "%%sql\n",
    "alter table milkProdu drop column Value;"
   ],
   "id": "2bec9c600664a43f",
   "execution_count": 14,
   "outputs": []
  },
  {
   "metadata": {
    "SqlCellData": {
     "data_source_name": "USDA",
     "variableName$1": "df_sql37"
    },
    "ExecuteTime": {
     "end_time": "2024-11-04T07:22:35.881644Z",
     "start_time": "2024-11-04T07:22:33.762822700Z"
    }
   },
   "cell_type": "code",
   "source": [
    "%%sql\n",
    " -- test\n",
    "select new_values from milkProdu;\n",
    "    -- تم التحويل بنجاح"
   ],
   "id": "bfed17540693edf",
   "outputs": [
    {
     "data": {
      "text/plain": [
       "        New_Values\n",
       "0        428000000\n",
       "1       3543000000\n",
       "2        444000000\n",
       "3        166000000\n",
       "4        180000000\n",
       "...            ...\n",
       "37633   1287000000\n",
       "37634   1540000000\n",
       "37635    709000000\n",
       "37636  10127000000\n",
       "37637    223000000\n",
       "\n",
       "[37638 rows x 1 columns]"
      ],
      "text/html": [
       "<div>\n",
       "<style scoped>\n",
       "    .dataframe tbody tr th:only-of-type {\n",
       "        vertical-align: middle;\n",
       "    }\n",
       "\n",
       "    .dataframe tbody tr th {\n",
       "        vertical-align: top;\n",
       "    }\n",
       "\n",
       "    .dataframe thead th {\n",
       "        text-align: right;\n",
       "    }\n",
       "</style>\n",
       "<table border=\"1\" class=\"dataframe\">\n",
       "  <thead>\n",
       "    <tr style=\"text-align: right;\">\n",
       "      <th></th>\n",
       "      <th>New_Values</th>\n",
       "    </tr>\n",
       "  </thead>\n",
       "  <tbody>\n",
       "    <tr>\n",
       "      <th>0</th>\n",
       "      <td>428000000</td>\n",
       "    </tr>\n",
       "    <tr>\n",
       "      <th>1</th>\n",
       "      <td>3543000000</td>\n",
       "    </tr>\n",
       "    <tr>\n",
       "      <th>2</th>\n",
       "      <td>444000000</td>\n",
       "    </tr>\n",
       "    <tr>\n",
       "      <th>3</th>\n",
       "      <td>166000000</td>\n",
       "    </tr>\n",
       "    <tr>\n",
       "      <th>4</th>\n",
       "      <td>180000000</td>\n",
       "    </tr>\n",
       "    <tr>\n",
       "      <th>...</th>\n",
       "      <td>...</td>\n",
       "    </tr>\n",
       "    <tr>\n",
       "      <th>37633</th>\n",
       "      <td>1287000000</td>\n",
       "    </tr>\n",
       "    <tr>\n",
       "      <th>37634</th>\n",
       "      <td>1540000000</td>\n",
       "    </tr>\n",
       "    <tr>\n",
       "      <th>37635</th>\n",
       "      <td>709000000</td>\n",
       "    </tr>\n",
       "    <tr>\n",
       "      <th>37636</th>\n",
       "      <td>10127000000</td>\n",
       "    </tr>\n",
       "    <tr>\n",
       "      <th>37637</th>\n",
       "      <td>223000000</td>\n",
       "    </tr>\n",
       "  </tbody>\n",
       "</table>\n",
       "<p>37638 rows × 1 columns</p>\n",
       "</div>"
      ]
     },
     "execution_count": 15,
     "metadata": {},
     "output_type": "execute_result"
    }
   ],
   "execution_count": 15
  },
  {
   "metadata": {},
   "cell_type": "markdown",
   "source": " ### رابعاً جدول إنتاج الجبن",
   "id": "3a1189721b9ec8f2"
  },
  {
   "metadata": {
    "SqlCellData": {
     "data_source_name": "USDA",
     "variableName$1": "df_sql38"
    },
    "ExecuteTime": {
     "end_time": "2024-11-04T07:23:07.240946900Z",
     "start_time": "2024-11-04T07:23:07.111946700Z"
    }
   },
   "cell_type": "code",
   "execution_count": null,
   "source": [
    "%%sql\n",
    "update cheeseProdu set New_Values = cast(Value as integer)\n",
    "    where Value not like '%[^0-9]%';"
   ],
   "id": "623e95587e2c72fe",
   "outputs": []
  },
  {
   "metadata": {
    "SqlCellData": {
     "data_source_name": "USDA",
     "variableName$1": "df_sql39"
    },
    "ExecuteTime": {
     "end_time": "2024-11-04T07:23:23.080862600Z",
     "start_time": "2024-11-04T07:23:23.003864100Z"
    }
   },
   "cell_type": "code",
   "source": [
    "%%sql\n",
    "alter table cheeseProdu drop column Value;"
   ],
   "id": "45d039e9d7f44c5b",
   "execution_count": 16,
   "outputs": []
  },
  {
   "metadata": {
    "SqlCellData": {
     "data_source_name": "USDA",
     "variableName$1": "df_sql40"
    },
    "ExecuteTime": {
     "end_time": "2024-11-04T07:23:36.742823Z",
     "start_time": "2024-11-04T07:23:36.359481Z"
    }
   },
   "cell_type": "code",
   "source": [
    "%%sql\n",
    "    -- test\n",
    "select new_values from cheeseProdu;"
   ],
   "id": "f0e896919abfbf51",
   "outputs": [
    {
     "data": {
      "text/plain": [
       "      New_Values\n",
       "0      208807000\n",
       "1       86452000\n",
       "2        5068000\n",
       "3       31512000\n",
       "4       69728000\n",
       "...          ...\n",
       "7483    11124000\n",
       "7484    32966000\n",
       "7485    32730000\n",
       "7486    20126000\n",
       "7487   947591000\n",
       "\n",
       "[7488 rows x 1 columns]"
      ],
      "text/html": [
       "<div>\n",
       "<style scoped>\n",
       "    .dataframe tbody tr th:only-of-type {\n",
       "        vertical-align: middle;\n",
       "    }\n",
       "\n",
       "    .dataframe tbody tr th {\n",
       "        vertical-align: top;\n",
       "    }\n",
       "\n",
       "    .dataframe thead th {\n",
       "        text-align: right;\n",
       "    }\n",
       "</style>\n",
       "<table border=\"1\" class=\"dataframe\">\n",
       "  <thead>\n",
       "    <tr style=\"text-align: right;\">\n",
       "      <th></th>\n",
       "      <th>New_Values</th>\n",
       "    </tr>\n",
       "  </thead>\n",
       "  <tbody>\n",
       "    <tr>\n",
       "      <th>0</th>\n",
       "      <td>208807000</td>\n",
       "    </tr>\n",
       "    <tr>\n",
       "      <th>1</th>\n",
       "      <td>86452000</td>\n",
       "    </tr>\n",
       "    <tr>\n",
       "      <th>2</th>\n",
       "      <td>5068000</td>\n",
       "    </tr>\n",
       "    <tr>\n",
       "      <th>3</th>\n",
       "      <td>31512000</td>\n",
       "    </tr>\n",
       "    <tr>\n",
       "      <th>4</th>\n",
       "      <td>69728000</td>\n",
       "    </tr>\n",
       "    <tr>\n",
       "      <th>...</th>\n",
       "      <td>...</td>\n",
       "    </tr>\n",
       "    <tr>\n",
       "      <th>7483</th>\n",
       "      <td>11124000</td>\n",
       "    </tr>\n",
       "    <tr>\n",
       "      <th>7484</th>\n",
       "      <td>32966000</td>\n",
       "    </tr>\n",
       "    <tr>\n",
       "      <th>7485</th>\n",
       "      <td>32730000</td>\n",
       "    </tr>\n",
       "    <tr>\n",
       "      <th>7486</th>\n",
       "      <td>20126000</td>\n",
       "    </tr>\n",
       "    <tr>\n",
       "      <th>7487</th>\n",
       "      <td>947591000</td>\n",
       "    </tr>\n",
       "  </tbody>\n",
       "</table>\n",
       "<p>7488 rows × 1 columns</p>\n",
       "</div>"
      ]
     },
     "execution_count": 18,
     "metadata": {},
     "output_type": "execute_result"
    }
   ],
   "execution_count": 18
  },
  {
   "metadata": {},
   "cell_type": "markdown",
   "source": " ### خامساً جدول إنتاج الزبادي",
   "id": "1d4bbcccead605b5"
  },
  {
   "metadata": {
    "SqlCellData": {
     "data_source_name": "USDA",
     "variableName$1": "df_sql41"
    },
    "ExecuteTime": {
     "end_time": "2024-11-04T07:24:20.005592900Z",
     "start_time": "2024-11-04T07:24:19.896589100Z"
    }
   },
   "cell_type": "code",
   "execution_count": null,
   "source": [
    "%%sql\n",
    "update YougertProdu set New_Values = cast(Value as integer)\n",
    "    where Value not like '%[^0-9]%';"
   ],
   "id": "2acd765a64620384",
   "outputs": []
  },
  {
   "metadata": {
    "SqlCellData": {
     "data_source_name": "USDA",
     "variableName$1": "df_sql42"
    },
    "ExecuteTime": {
     "end_time": "2024-11-04T07:24:30.531522Z",
     "start_time": "2024-11-04T07:24:30.450534Z"
    }
   },
   "cell_type": "code",
   "execution_count": null,
   "source": [
    "%%sql\n",
    "alter table YougertProdu drop column Value;"
   ],
   "id": "6902408ecadaa7d3",
   "outputs": []
  },
  {
   "metadata": {
    "SqlCellData": {
     "data_source_name": "USDA",
     "variableName$1": "df_sql43"
    },
    "ExecuteTime": {
     "end_time": "2024-11-04T07:24:44.959168Z",
     "start_time": "2024-11-04T07:24:44.847120Z"
    }
   },
   "cell_type": "code",
   "source": [
    "%%sql\n",
    "    -- test\n",
    "select new_values from YougertProdu;"
   ],
   "id": "ebfb93cf68059468",
   "outputs": [
    {
     "data": {
      "text/plain": [
       "     New_Values\n",
       "0     377839000\n",
       "1     793256000\n",
       "2     374637000\n",
       "3     774881000\n",
       "4     354906000\n",
       "..          ...\n",
       "144    11058000\n",
       "145   189012000\n",
       "146     2545000\n",
       "147    18988000\n",
       "148    10868000\n",
       "\n",
       "[149 rows x 1 columns]"
      ],
      "text/html": [
       "<div>\n",
       "<style scoped>\n",
       "    .dataframe tbody tr th:only-of-type {\n",
       "        vertical-align: middle;\n",
       "    }\n",
       "\n",
       "    .dataframe tbody tr th {\n",
       "        vertical-align: top;\n",
       "    }\n",
       "\n",
       "    .dataframe thead th {\n",
       "        text-align: right;\n",
       "    }\n",
       "</style>\n",
       "<table border=\"1\" class=\"dataframe\">\n",
       "  <thead>\n",
       "    <tr style=\"text-align: right;\">\n",
       "      <th></th>\n",
       "      <th>New_Values</th>\n",
       "    </tr>\n",
       "  </thead>\n",
       "  <tbody>\n",
       "    <tr>\n",
       "      <th>0</th>\n",
       "      <td>377839000</td>\n",
       "    </tr>\n",
       "    <tr>\n",
       "      <th>1</th>\n",
       "      <td>793256000</td>\n",
       "    </tr>\n",
       "    <tr>\n",
       "      <th>2</th>\n",
       "      <td>374637000</td>\n",
       "    </tr>\n",
       "    <tr>\n",
       "      <th>3</th>\n",
       "      <td>774881000</td>\n",
       "    </tr>\n",
       "    <tr>\n",
       "      <th>4</th>\n",
       "      <td>354906000</td>\n",
       "    </tr>\n",
       "    <tr>\n",
       "      <th>...</th>\n",
       "      <td>...</td>\n",
       "    </tr>\n",
       "    <tr>\n",
       "      <th>144</th>\n",
       "      <td>11058000</td>\n",
       "    </tr>\n",
       "    <tr>\n",
       "      <th>145</th>\n",
       "      <td>189012000</td>\n",
       "    </tr>\n",
       "    <tr>\n",
       "      <th>146</th>\n",
       "      <td>2545000</td>\n",
       "    </tr>\n",
       "    <tr>\n",
       "      <th>147</th>\n",
       "      <td>18988000</td>\n",
       "    </tr>\n",
       "    <tr>\n",
       "      <th>148</th>\n",
       "      <td>10868000</td>\n",
       "    </tr>\n",
       "  </tbody>\n",
       "</table>\n",
       "<p>149 rows × 1 columns</p>\n",
       "</div>"
      ]
     },
     "execution_count": 20,
     "metadata": {},
     "output_type": "execute_result"
    }
   ],
   "execution_count": 20
  },
  {
   "metadata": {},
   "cell_type": "markdown",
   "source": " ### أخيراً جدول إنتاج القهوة",
   "id": "416ad2000ea1e47d"
  },
  {
   "metadata": {
    "SqlCellData": {
     "data_source_name": "USDA",
     "variableName$1": "df_sql44"
    },
    "ExecuteTime": {
     "end_time": "2024-11-04T07:25:03.262430200Z",
     "start_time": "2024-11-04T07:25:03.166437500Z"
    }
   },
   "cell_type": "code",
   "execution_count": null,
   "source": [
    "%%sql\n",
    "update coffeeProdu set New_Values = cast(Value as integer)\n",
    "    where Value not like '%[^0-9]%';"
   ],
   "id": "b63b4f7da266da03",
   "outputs": []
  },
  {
   "metadata": {
    "SqlCellData": {
     "data_source_name": "USDA",
     "variableName$1": "df_sql45"
    },
    "ExecuteTime": {
     "end_time": "2024-11-04T07:25:15.007419600Z",
     "start_time": "2024-11-04T07:25:14.907407800Z"
    }
   },
   "cell_type": "code",
   "execution_count": null,
   "source": [
    "%%sql\n",
    "alter table coffeeProdu drop column Value;"
   ],
   "id": "e55a9d3f3d4de324",
   "outputs": []
  },
  {
   "metadata": {
    "SqlCellData": {
     "data_source_name": "USDA",
     "variableName$1": "df_sql46"
    },
    "ExecuteTime": {
     "end_time": "2024-11-04T07:25:27.039438Z",
     "start_time": "2024-11-04T07:25:26.911867200Z"
    }
   },
   "cell_type": "code",
   "source": [
    "%%sql\n",
    "    -- test\n",
    "select new_values from coffeeProdu;"
   ],
   "id": "69950c4dbf377b5e",
   "outputs": [
    {
     "data": {
      "text/plain": [
       "    New_Values\n",
       "0      5400000\n",
       "1      6600000\n",
       "2      7500000\n",
       "3      8400000\n",
       "4      7000000\n",
       "..         ...\n",
       "66     9375000\n",
       "67     5375000\n",
       "68     7375000\n",
       "69     8738000\n",
       "70     8625000\n",
       "\n",
       "[71 rows x 1 columns]"
      ],
      "text/html": [
       "<div>\n",
       "<style scoped>\n",
       "    .dataframe tbody tr th:only-of-type {\n",
       "        vertical-align: middle;\n",
       "    }\n",
       "\n",
       "    .dataframe tbody tr th {\n",
       "        vertical-align: top;\n",
       "    }\n",
       "\n",
       "    .dataframe thead th {\n",
       "        text-align: right;\n",
       "    }\n",
       "</style>\n",
       "<table border=\"1\" class=\"dataframe\">\n",
       "  <thead>\n",
       "    <tr style=\"text-align: right;\">\n",
       "      <th></th>\n",
       "      <th>New_Values</th>\n",
       "    </tr>\n",
       "  </thead>\n",
       "  <tbody>\n",
       "    <tr>\n",
       "      <th>0</th>\n",
       "      <td>5400000</td>\n",
       "    </tr>\n",
       "    <tr>\n",
       "      <th>1</th>\n",
       "      <td>6600000</td>\n",
       "    </tr>\n",
       "    <tr>\n",
       "      <th>2</th>\n",
       "      <td>7500000</td>\n",
       "    </tr>\n",
       "    <tr>\n",
       "      <th>3</th>\n",
       "      <td>8400000</td>\n",
       "    </tr>\n",
       "    <tr>\n",
       "      <th>4</th>\n",
       "      <td>7000000</td>\n",
       "    </tr>\n",
       "    <tr>\n",
       "      <th>...</th>\n",
       "      <td>...</td>\n",
       "    </tr>\n",
       "    <tr>\n",
       "      <th>66</th>\n",
       "      <td>9375000</td>\n",
       "    </tr>\n",
       "    <tr>\n",
       "      <th>67</th>\n",
       "      <td>5375000</td>\n",
       "    </tr>\n",
       "    <tr>\n",
       "      <th>68</th>\n",
       "      <td>7375000</td>\n",
       "    </tr>\n",
       "    <tr>\n",
       "      <th>69</th>\n",
       "      <td>8738000</td>\n",
       "    </tr>\n",
       "    <tr>\n",
       "      <th>70</th>\n",
       "      <td>8625000</td>\n",
       "    </tr>\n",
       "  </tbody>\n",
       "</table>\n",
       "<p>71 rows × 1 columns</p>\n",
       "</div>"
      ]
     },
     "execution_count": 21,
     "metadata": {},
     "output_type": "execute_result"
    }
   ],
   "execution_count": 21
  },
  {
   "metadata": {},
   "cell_type": "markdown",
   "source": [
    " # خلاصة العمل:\n",
    " ### أولاً: تم التأكد من أن قاعدة البيانات تعمل بشكل جيد.\n",
    "   ### ثانياً: تم معرفة هيكل قاعدة البيانات والتعرف على أنواع القيم لكل عمود .\n",
    "  ### ثالثاً: تم معرفة البيانات الفارغة وتنظيفها.\n",
    " ### رابعاً: رصدنا أحد الأعمدة الرقمية بنوع بيانات نصي .\n",
    " ### خامسا: قمنا بإنشاء عمود جديد لتحويل القيم إليه.\n",
    " ### سادساً: قمنا بتحويل القيم إلى أرقام وحفظها في العمود الجديد.\n",
    " ### سابعاً: قمنا بحذف العمود القديم بعد التحويل."
   ],
   "id": "f84bebf829451b14"
  },
  {
   "metadata": {},
   "cell_type": "code",
   "outputs": [],
   "execution_count": null,
   "source": "",
   "id": "c59bc01588c5c144"
  }
 ],
 "metadata": {
  "kernelspec": {
   "display_name": "Python 3",
   "language": "python",
   "name": "python3"
  },
  "language_info": {
   "codemirror_mode": {
    "name": "ipython",
    "version": 2
   },
   "file_extension": ".py",
   "mimetype": "text/x-python",
   "name": "python",
   "nbconvert_exporter": "python",
   "pygments_lexer": "ipython2",
   "version": "2.7.6"
  }
 },
 "nbformat": 4,
 "nbformat_minor": 5
}
